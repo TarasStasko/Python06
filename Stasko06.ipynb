{
  "nbformat": 4,
  "nbformat_minor": 0,
  "metadata": {
    "colab": {
      "provenance": [],
      "authorship_tag": "ABX9TyPBs3jSrRu4MK2weXrW9ZRC",
      "include_colab_link": true
    },
    "kernelspec": {
      "name": "python3",
      "display_name": "Python 3"
    },
    "language_info": {
      "name": "python"
    }
  },
  "cells": [
    {
      "cell_type": "markdown",
      "metadata": {
        "id": "view-in-github",
        "colab_type": "text"
      },
      "source": [
        "<a href=\"https://colab.research.google.com/github/TarasStasko/Python06/blob/main/Stasko06.ipynb\" target=\"_parent\"><img src=\"https://colab.research.google.com/assets/colab-badge.svg\" alt=\"Open In Colab\"/></a>"
      ]
    },
    {
      "cell_type": "markdown",
      "source": [
        "Docstrings  - це рядки документації, які служать для пояснення призначення коду, опису його інтерфейсу та функціональності."
      ],
      "metadata": {
        "id": "1kmI1ObZuKva"
      }
    },
    {
      "cell_type": "code",
      "source": [
        "\"\"\" Calculate the sum of two integers.\n",
        "\n",
        "    Example:\n",
        "        >>> calculate_sum(2, 3)\n",
        "        5\n",
        "        >>> calculate_sum(-1, 5)\n",
        "        4\n",
        "\n",
        "    Args:\n",
        "        num1 (int): The first integer.\n",
        "        num2 (int): The second integer.\n",
        "\n",
        "    Returns:\n",
        "        int: The sum of the two integers.\n",
        "\"\"\"\n"
      ],
      "metadata": {
        "id": "IbyZWrNSuVJX"
      },
      "execution_count": null,
      "outputs": []
    },
    {
      "cell_type": "code",
      "source": [
        "def calculate_sum(num1, num2):\n",
        "    return num1 + num2\n",
        "\n",
        "\n",
        "print(calculate_sum(num1=2, num2=3))\n"
      ],
      "metadata": {
        "colab": {
          "base_uri": "https://localhost:8080/"
        },
        "id": "gOFn2ByG0Rti",
        "outputId": "1180d45d-ba15-4532-8dca-aa244ed298ef"
      },
      "execution_count": 2,
      "outputs": [
        {
          "output_type": "stream",
          "name": "stdout",
          "text": [
            "5\n"
          ]
        }
      ]
    },
    {
      "cell_type": "code",
      "source": [
        "\"\"\"Function to check if a number is prime.\n",
        "\n",
        "    Args:\n",
        "        n (int): The number to be checked for primality.\n",
        "\n",
        "    Returns:\n",
        "        bool: True if the number is prime, False otherwise.\n",
        "\n",
        "    Raises:\n",
        "        TypeError: If the input is not an integer.\n",
        "\n",
        "    Examples:\n",
        "        >>> is_prime_number(5)\n",
        "        True\n",
        "        >>> is_prime_number(10)\n",
        "        False\n",
        "        >>> is_prime_number(1)\n",
        "        False\n",
        "\"\"\"\n"
      ],
      "metadata": {
        "id": "qXwycaoV4lgr"
      },
      "execution_count": null,
      "outputs": []
    },
    {
      "cell_type": "code",
      "source": [
        "def is_prime_number(n):\n",
        "    try:\n",
        "        n = int(n)\n",
        "    except ValueError:\n",
        "        raise ValueError(\"Input must be an integer\")\n",
        "\n",
        "    if not isinstance(n, int):\n",
        "        raise TypeError(\"Input must be an integer\")\n",
        "    if n <= 1:\n",
        "        return False\n",
        "    for i in range(2, int(n**0.5) + 1):\n",
        "        if n % i == 0:\n",
        "            return False\n",
        "    return True\n",
        "\n",
        "\n",
        "num = input(\"Enter a number to check if it is prime: \")\n",
        "print(is_prime_number(num))\n"
      ],
      "metadata": {
        "colab": {
          "base_uri": "https://localhost:8080/"
        },
        "id": "PDd9v4yh5qYR",
        "outputId": "0eb98354-2009-47e9-b5fd-be70f5ed1e2d"
      },
      "execution_count": 13,
      "outputs": [
        {
          "output_type": "stream",
          "name": "stdout",
          "text": [
            "Enter a number to check if it is prime: 11\n",
            "True\n"
          ]
        }
      ]
    },
    {
      "cell_type": "code",
      "source": [
        "\"\"\" Function to find the longest common prefix of two strings, regardless of case.\n",
        "\n",
        "    Args:\n",
        "        str1 (str): The first string.\n",
        "        str2 (str): The second string.\n",
        "\n",
        "    Returns:\n",
        "        str: The longest common prefix of the two strings, or an empty string if there is none.\n",
        "\n",
        "    Examples:\n",
        "        >>> longest_common_prefix(\"Hello\", \"Hey\")\n",
        "        'He'\n",
        "        >>> longest_common_prefix(\"World\", \"work\")\n",
        "        'py'\n",
        "\"\"\"\n"
      ],
      "metadata": {
        "id": "bMns-pye7jtZ"
      },
      "execution_count": null,
      "outputs": []
    },
    {
      "cell_type": "code",
      "source": [
        "def longest_common_prefix(str1, str2):\n",
        "\n",
        "    prefix = \"\"\n",
        "    for char1, char2 in zip(str1.lower(), str2.lower()):\n",
        "        if char1 != char2:\n",
        "            break\n",
        "        prefix += char1\n",
        "    return prefix\n",
        "\n",
        "\n",
        "pref = longest_common_prefix(\"Hello\", \"Hey\")\n",
        "print(pref)\n",
        "\n",
        "pref = longest_common_prefix(\"World\", \"work\")\n",
        "print(pref)\n"
      ],
      "metadata": {
        "colab": {
          "base_uri": "https://localhost:8080/"
        },
        "id": "aXZDDOtH7zgF",
        "outputId": "12cec104-5507-470c-b296-9d8a4e847639"
      },
      "execution_count": 14,
      "outputs": [
        {
          "output_type": "stream",
          "name": "stdout",
          "text": [
            "he\n",
            "wor\n"
          ]
        }
      ]
    },
    {
      "cell_type": "code",
      "source": [
        "\"\"\"\n",
        "    Function to calculate the monthly mortgage payment.\n",
        "\n",
        "    Args:\n",
        "        principal (float): The loan amount (principal).\n",
        "        annual_interest_rate (float): The annual interest rate (as a percentage).\n",
        "        years (int): The duration of the loan in years.\n",
        "\n",
        "    Returns:\n",
        "        float: The monthly mortgage payment.\n",
        "\n",
        "    Examples:\n",
        "        >>> calculate_mortgage_payment(200000, 4.5, 30)\n",
        "        1013.37\n",
        "        >>> calculate_mortgage_payment(300000, 3.75, 15)\n",
        "        2189.53\n",
        "\"\"\""
      ],
      "metadata": {
        "id": "kOuzHLe5A6jw"
      },
      "execution_count": null,
      "outputs": []
    },
    {
      "cell_type": "code",
      "source": [
        "def calculate_mortgage_payment(principal, annual_interest_rate, years):\n",
        "\n",
        "    monthly_interest_rate = annual_interest_rate / 12 / 100\n",
        "    total_payments = years * 12\n",
        "    monthly_payment = principal * (monthly_interest_rate * (1 + monthly_interest_rate) ** total_payments) / ((1 + monthly_interest_rate) ** total_payments - 1)\n",
        "    return round(monthly_payment, 2)\n",
        "\n",
        "\n",
        "principal = float(input(\"Enter the loan amount (principal): \"))\n",
        "annual_interest_rate = float(input(\"Enter the annual interest rate (as a percentage): \"))\n",
        "years = int(input(\"Enter the duration of the loan in years: \"))\n",
        "\n",
        "monthly_payment = calculate_mortgage_payment(principal, annual_interest_rate, years)\n",
        "print(\"Monthly mortgage payment: $\", monthly_payment)\n"
      ],
      "metadata": {
        "id": "z981W6QPBAbz"
      },
      "execution_count": null,
      "outputs": []
    },
    {
      "cell_type": "code",
      "source": [
        "def get_value_from_dict(dictionary, key):\n",
        "    try:\n",
        "        return dictionary[key]\n",
        "    except KeyError:\n",
        "        raise KeyError(f\"Key '{key}' not found in the dictionary\")\n",
        "\n",
        "\n",
        "my_dict = {'first': 1, 'second': 2, 'third': 3}\n",
        "try:\n",
        "    value = get_value_from_dict(my_dict, 'third')\n",
        "    print(\"Value:\", value)\n",
        "except KeyError as e:\n",
        "    print(\"Error:\", e)\n",
        "\n",
        "try:\n",
        "    value = get_value_from_dict(my_dict, 'wasdfe')\n",
        "    print(\"Value:\", value)\n",
        "except KeyError as e:\n",
        "    print(\"Error:\", e)\n",
        ""
      ],
      "metadata": {
        "id": "CryiNryeJJUH"
      },
      "execution_count": null,
      "outputs": []
    },
    {
      "cell_type": "code",
      "source": [
        "def get_value_from_dict(dictionary, key):\n",
        "    if key in dictionary:\n",
        "        return dictionary[key]\n",
        "    else:\n",
        "        return None\n",
        "\n",
        "\n",
        "my_dict = {'first': 1, 'second': 2, 'third': 3}\n",
        "\n",
        "value = get_value_from_dict(my_dict, 'third')\n",
        "print(\"Value:\", value)\n",
        "\n",
        "value = get_value_from_dict(my_dict, 'dghtyu')\n",
        "print(\"Value:\", value)\n"
      ],
      "metadata": {
        "colab": {
          "base_uri": "https://localhost:8080/"
        },
        "id": "Z0gC5htNJKK8",
        "outputId": "00bd495a-3c13-4de7-fbf3-2a1dcdf93dd3"
      },
      "execution_count": 16,
      "outputs": [
        {
          "output_type": "stream",
          "name": "stdout",
          "text": [
            "Value: 3\n",
            "Value: None\n"
          ]
        }
      ]
    },
    {
      "cell_type": "code",
      "source": [
        "def get_value_from_dict(dictionary, key):\n",
        "    return dictionary.get(key)\n",
        "\n",
        "\n",
        "my_dict = {'first': 1, 'second': 2, 'third': 3}\n",
        "\n",
        "value = get_value_from_dict(my_dict, 'third')\n",
        "print(\"Value:\", value)\n",
        "\n",
        "value = get_value_from_dict(my_dict, 'dghtyu')\n",
        "print(\"Value:\", value)\n"
      ],
      "metadata": {
        "colab": {
          "base_uri": "https://localhost:8080/"
        },
        "id": "PcRlY8VoKz_f",
        "outputId": "5ce71e8d-953d-430e-d798-6efbac18e8af"
      },
      "execution_count": 17,
      "outputs": [
        {
          "output_type": "stream",
          "name": "stdout",
          "text": [
            "Value: 3\n",
            "Value: None\n"
          ]
        }
      ]
    },
    {
      "cell_type": "code",
      "source": [
        "def process_user_input():\n",
        "    try:\n",
        "        user_input = input(\"Enter your age: \")\n",
        "        age = int(user_input)\n",
        "        return age\n",
        "    except ValueError:\n",
        "        print(\"Invalid input! Please enter a valid integer value.\")\n",
        "        return None\n",
        "\n",
        "\n",
        "age = process_user_input()\n",
        "if age is not None:\n",
        "    print(\"Your age is:\", age)\n",
        "else:\n",
        "    print(\"Age was not provided or is invalid.\")"
      ],
      "metadata": {
        "id": "Z3j7rclRMN3i"
      },
      "execution_count": null,
      "outputs": []
    },
    {
      "cell_type": "code",
      "source": [
        "def process_user_input():\n",
        "    user_input = input(\"Enter your age: \")\n",
        "    if user_input.isdigit():\n",
        "        age = int(user_input)\n",
        "        return age\n",
        "    else:\n",
        "        print(\"Invalid input! Please enter a valid integer value.\")\n",
        "        return None\n",
        "\n",
        "\n",
        "age = process_user_input()\n",
        "if age is not None:\n",
        "    print(\"Your age is:\", age)\n",
        "else:\n",
        "    print(\"Age was not provided or is invalid.\")\n"
      ],
      "metadata": {
        "id": "NzCAdSKBMffs"
      },
      "execution_count": null,
      "outputs": []
    },
    {
      "cell_type": "code",
      "source": [
        "def process_user_input():\n",
        "    try:\n",
        "        user_input = input(\"Enter your age: \")\n",
        "        age = int(user_input)\n",
        "        if 18 <= age <= 120:\n",
        "            return age\n",
        "        else:\n",
        "            print(\"Invalid input! Age must be between 18 and 120.\")\n",
        "            return None\n",
        "    except ValueError:\n",
        "        print(\"Invalid input! Please enter a valid integer value.\")\n",
        "        return None\n",
        "\n",
        "\n",
        "age = process_user_input()\n",
        "if age is not None:\n",
        "    print(\"Your age is:\", age)\n",
        "else:\n",
        "    print(\"Age was not provided or is invalid.\")\n",
        ""
      ],
      "metadata": {
        "id": "sVwAtBSjM1J8"
      },
      "execution_count": null,
      "outputs": []
    },
    {
      "cell_type": "code",
      "source": [
        "def generate_errors():\n",
        "    try:\n",
        "        some_list = [1, 2, 3]\n",
        "        print(some_list[10])\n",
        "    except IndexError as e:\n",
        "        print(\"Caught an IndexError:\", e)\n",
        "\n",
        "    try:\n",
        "        result = 10 / 0\n",
        "    except ZeroDivisionError as e:\n",
        "        print(\"Caught a ZeroDivisionError:\", e)\n",
        "\n",
        "    try:\n",
        "        x = 5 + '10'\n",
        "    except TypeError as e:\n",
        "        print(\"Caught a TypeError:\", e)\n",
        "\n",
        "    try:\n",
        "        x = int('abc')\n",
        "    except ValueError as e:\n",
        "        print(\"Caught a ValueError:\", e)\n",
        "\n",
        "    try:\n",
        "        with open('file.txt', 'r') as f:\n",
        "            content = f.read()\n",
        "    except FileNotFoundError as e:\n",
        "        print(\"Caught a FileNotFoundError:\", e)\n",
        "\n",
        "    try:\n",
        "        some_dict = {'a': 1, 'b': 2}\n",
        "        print(some_dict['c'])\n",
        "    except KeyError as e:\n",
        "        print(\"Caught a KeyError:\", e)\n",
        "\n",
        "\n",
        "generate_errors()\n"
      ],
      "metadata": {
        "id": "jIf2EVziPX2O"
      },
      "execution_count": null,
      "outputs": []
    },
    {
      "cell_type": "code",
      "source": [
        "def generate_errors():\n",
        "    try:\n",
        "        some_list = [1, 2, 3]\n",
        "        print(some_list[2])\n",
        "    except IndexError as e:\n",
        "        print(\"Caught an IndexError:\", e)\n",
        "\n",
        "    try:\n",
        "        result = 10 / 2\n",
        "        print(result)\n",
        "    except ZeroDivisionError as e:\n",
        "        print(\"Caught a ZeroDivisionError:\", e)\n",
        "\n",
        "    try:\n",
        "        x = 5 + 10\n",
        "        print(x)\n",
        "    except TypeError as e:\n",
        "        print(\"Caught a TypeError:\", e)\n",
        "\n",
        "    try:\n",
        "        x = int(4.0)\n",
        "        print(x)\n",
        "    except ValueError as e:\n",
        "        print(\"Caught a ValueError:\", e)\n",
        "\n",
        "    try:\n",
        "        with open('file.txt', 'r') as f:  # we need to add this file\n",
        "            content = f.read()\n",
        "    except FileNotFoundError as e:\n",
        "        print(\"Caught a FileNotFoundError:\", e)\n",
        "\n",
        "    try:\n",
        "        some_dict = {'a': 1, 'b': 2}\n",
        "        print(some_dict['b'])\n",
        "    except KeyError as e:\n",
        "        print(\"Caught a KeyError:\", e)\n",
        "\n",
        "\n",
        "generate_errors()\n"
      ],
      "metadata": {
        "colab": {
          "base_uri": "https://localhost:8080/"
        },
        "id": "koE6eCGfQood",
        "outputId": "e1dd06cb-aebb-40ba-9e3d-10b8012c961c"
      },
      "execution_count": 18,
      "outputs": [
        {
          "output_type": "stream",
          "name": "stdout",
          "text": [
            "3\n",
            "5.0\n",
            "15\n",
            "4\n",
            "Caught a FileNotFoundError: [Errno 2] No such file or directory: 'file.txt'\n",
            "2\n"
          ]
        }
      ]
    }
  ]
}